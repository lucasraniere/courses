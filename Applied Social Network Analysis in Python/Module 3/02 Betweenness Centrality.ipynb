{
 "cells": [
  {
   "cell_type": "markdown",
   "id": "5c1e0ac6-5f6a-48ae-b921-fd671533c0d1",
   "metadata": {},
   "source": [
    "# __Betweenness Centrality__"
   ]
  },
  {
   "cell_type": "code",
   "execution_count": 1,
   "id": "b88beedb-7d70-4867-9790-85e97b08bbab",
   "metadata": {},
   "outputs": [],
   "source": [
    "import networkx as nx"
   ]
  },
  {
   "cell_type": "code",
   "execution_count": 2,
   "id": "3dab7207-b8ee-4ea3-b0d5-967e7697f1b5",
   "metadata": {},
   "outputs": [
    {
     "data": {
      "image/png": "[encoded data removed]",
      "text/plain": [
       "<Figure size 432x288 with 1 Axes>"
      ]
     },
     "metadata": {},
     "output_type": "display_data"
    }
   ],
   "source": [
    "edges = [\n",
    "    ('A','B'), ('A','C'), ('B','C'), ('C','D'),\n",
    "    ('D','E'), ('E','F'), ('E','G'), ('F','G')\n",
    "]\n",
    "\n",
    "G = nx.Graph()\n",
    "G.add_edges_from(edges)\n",
    "nx.draw_networkx(G)"
   ]
  },
  {
   "cell_type": "code",
   "execution_count": 3,
   "id": "7f880fc9-9117-44e3-a222-24a2b2f3cfaf",
   "metadata": {},
   "outputs": [
    {
     "data": {
      "text/plain": [
       "{'A': 0.0, 'B': 0.0, 'C': 8.0, 'D': 9.0, 'E': 8.0, 'F': 0.0, 'G': 0.0}"
      ]
     },
     "execution_count": 3,
     "metadata": {},
     "output_type": "execute_result"
    }
   ],
   "source": [
    "# class exercise\n",
    "btw_cent = nx.betweenness_centrality(G, endpoints=False, normalized=False)\n",
    "btw_cent"
   ]
  },
  {
   "cell_type": "code",
   "execution_count": 4,
   "id": "cf7fd423-0970-48d4-b036-4bee9b6aa74e",
   "metadata": {},
   "outputs": [
    {
     "data": {
      "text/plain": [
       "{'A': 0.0,\n",
       " 'B': 0.0,\n",
       " 'C': 0.5333333333333333,\n",
       " 'D': 0.6,\n",
       " 'E': 0.5333333333333333,\n",
       " 'F': 0.0,\n",
       " 'G': 0.0}"
      ]
     },
     "execution_count": 4,
     "metadata": {},
     "output_type": "execute_result"
    }
   ],
   "source": [
    "btw_cent = nx.betweenness_centrality(G, endpoints=False, normalized=True)\n",
    "btw_cent"
   ]
  },
  {
   "cell_type": "code",
   "execution_count": 5,
   "id": "8b9a475e-1427-428b-9d75-34a87610c674",
   "metadata": {},
   "outputs": [
    {
     "data": {
      "text/plain": [
       "{'A': 0.0,\n",
       " 'B': 0.0,\n",
       " 'C': 0.5833333333333334,\n",
       " 'D': 0.525,\n",
       " 'E': 0.4666666666666667,\n",
       " 'F': 0.0,\n",
       " 'G': 0.0}"
      ]
     },
     "execution_count": 5,
     "metadata": {},
     "output_type": "execute_result"
    }
   ],
   "source": [
    "btw_cent_approx = nx.betweenness_centrality(G, normalized=True, endpoints=False, k=4)\n",
    "btw_cent_approx"
   ]
  },
  {
   "cell_type": "code",
   "execution_count": 6,
   "id": "4e6c6881-8125-479a-82fa-30617e71d66e",
   "metadata": {},
   "outputs": [
    {
     "data": {
      "text/plain": [
       "{('A', 'B'): 0.047619047619047616,\n",
       " ('A', 'C'): 0.23809523809523808,\n",
       " ('B', 'C'): 0.23809523809523808,\n",
       " ('C', 'D'): 0.5714285714285714,\n",
       " ('D', 'E'): 0.5714285714285714,\n",
       " ('E', 'F'): 0.23809523809523808,\n",
       " ('E', 'G'): 0.23809523809523808,\n",
       " ('F', 'G'): 0.047619047619047616}"
      ]
     },
     "execution_count": 6,
     "metadata": {},
     "output_type": "execute_result"
    }
   ],
   "source": [
    "btw_cent_edge = nx.edge_betweenness_centrality(G, normalized=True)\n",
    "btw_cent_edge"
   ]
  }
 ],
 "metadata": {
  "kernelspec": {
   "display_name": "courses",
   "language": "python",
   "name": "courses"
  },
  "language_info": {
   "codemirror_mode": {
    "name": "ipython",
    "version": 3
   },
   "file_extension": ".py",
   "mimetype": "text/x-python",
   "name": "python",
   "nbconvert_exporter": "python",
   "pygments_lexer": "ipython3",
   "version": "3.9.7"
  }
 },
 "nbformat": 4,
 "nbformat_minor": 5
}
