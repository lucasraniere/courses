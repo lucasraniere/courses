{
 "cells": [
  {
   "cell_type": "markdown",
   "id": "b1c6c98b-4f35-426a-b4f4-f376babf88fb",
   "metadata": {},
   "source": [
    "# __Degree and Closeness__"
   ]
  },
  {
   "cell_type": "code",
   "execution_count": 1,
   "id": "34b32b53-746e-475a-9562-69c131dece36",
   "metadata": {},
   "outputs": [],
   "source": [
    "import networkx as nx\n",
    "%matplotlib widget"
   ]
  },
  {
   "cell_type": "code",
   "execution_count": 2,
   "id": "a8fab6ba-9a20-48eb-8977-9466bb697312",
   "metadata": {},
   "outputs": [],
   "source": [
    "G = nx.karate_club_graph()"
   ]
  },
  {
   "cell_type": "code",
   "execution_count": 3,
   "id": "e2116d62-57b5-459a-a362-4ce4399a861f",
   "metadata": {},
   "outputs": [],
   "source": [
    "G = nx.convert_node_labels_to_integers(G, first_label=1)"
   ]
  },
  {
   "cell_type": "code",
   "execution_count": 4,
   "id": "c671dc0d-0b7b-4094-a6ac-5cf48a7cf0f6",
   "metadata": {},
   "outputs": [
    {
     "data": {
      "text/plain": [
       "0.5151515151515151"
      ]
     },
     "execution_count": 4,
     "metadata": {},
     "output_type": "execute_result"
    }
   ],
   "source": [
    "deg_cent = nx.degree_centrality(G) # degree\n",
    "deg_cent[34]"
   ]
  },
  {
   "cell_type": "code",
   "execution_count": 5,
   "id": "90784de2-bbe9-4907-88a9-6186e51c23f0",
   "metadata": {},
   "outputs": [
    {
     "data": {
      "text/plain": [
       "0.36363636363636365"
      ]
     },
     "execution_count": 5,
     "metadata": {},
     "output_type": "execute_result"
    }
   ],
   "source": [
    "deg_cent[33]"
   ]
  },
  {
   "cell_type": "code",
   "execution_count": 6,
   "id": "e32ac1c5-49a3-4acc-b7fb-3ecf433fb4d0",
   "metadata": {},
   "outputs": [],
   "source": [
    "edges = [\n",
    "    ('A', 'B'), ('C', 'A'), ('A', 'E'), ('G', 'A'), ('A', 'N'), ('B', 'C'),\n",
    "    ('D', 'B'), ('B', 'E'), ('C', 'D'), ('E', 'C'), ('D', 'E'), ('E', 'D'),\n",
    "    ('F', 'G'), ('I', 'F'), ('J', 'F'), ('H', 'G'), ('I', 'G'), ('G', 'J'),\n",
    "    ('I', 'H'), ('H', 'I'), ('I', 'J'), ('J', 'O'), ('O', 'J'), ('K', 'M'),\n",
    "    ('K', 'L'), ('O', 'K'), ('O', 'L'), ('N', 'L'), ('L', 'M'), ('N', 'O')\n",
    "]\n",
    "\n",
    "G = nx.DiGraph()\n",
    "G.add_edges_from(edges)"
   ]
  },
  {
   "cell_type": "code",
   "execution_count": 7,
   "id": "4841f066-d4c5-45f0-9c37-c6b5729dafb3",
   "metadata": {},
   "outputs": [
    {
     "data": {
      "text/plain": [
       "0.14285714285714285"
      ]
     },
     "execution_count": 7,
     "metadata": {},
     "output_type": "execute_result"
    }
   ],
   "source": [
    "indeg_cent = nx.in_degree_centrality(G) # in-degree\n",
    "indeg_cent['A']"
   ]
  },
  {
   "cell_type": "code",
   "execution_count": 8,
   "id": "b9aa4e30-e714-4b6e-90c5-1ef40e0c530c",
   "metadata": {},
   "outputs": [
    {
     "data": {
      "text/plain": [
       "0.21428571428571427"
      ]
     },
     "execution_count": 8,
     "metadata": {},
     "output_type": "execute_result"
    }
   ],
   "source": [
    "outdeg_cent = nx.out_degree_centrality(G) # out-degree\n",
    "outdeg_cent['A']"
   ]
  },
  {
   "cell_type": "code",
   "execution_count": 9,
   "id": "39fcbd78-7f28-4b12-b2db-929b7d3ef4fe",
   "metadata": {},
   "outputs": [],
   "source": [
    "G = nx.karate_club_graph()\n",
    "\n",
    "close_cent = nx.closeness_centrality(G) # closeness centrality"
   ]
  },
  {
   "cell_type": "code",
   "execution_count": 10,
   "id": "4194c526-1d88-4831-94fe-82ac81d7de69",
   "metadata": {},
   "outputs": [
    {
     "data": {
      "text/plain": [
       "0.515625"
      ]
     },
     "execution_count": 10,
     "metadata": {},
     "output_type": "execute_result"
    }
   ],
   "source": [
    "close_cent[32]"
   ]
  },
  {
   "cell_type": "code",
   "execution_count": 11,
   "id": "2c47bc0b-ad53-4042-8f17-1132ce14a2ea",
   "metadata": {},
   "outputs": [
    {
     "data": {
      "text/plain": [
       "0.515625"
      ]
     },
     "execution_count": 11,
     "metadata": {},
     "output_type": "execute_result"
    }
   ],
   "source": [
    "node32_close = (len(G.nodes())-1)/(sum(nx.shortest_path_length(G, 32).values())) # closeness manually calculated\n",
    "node32_close"
   ]
  },
  {
   "cell_type": "code",
   "execution_count": 12,
   "id": "94ca2a3f-a817-43e6-b462-714aa1beb685",
   "metadata": {},
   "outputs": [
    {
     "data": {
      "text/plain": [
       "0.35135135135135137"
      ]
     },
     "execution_count": 12,
     "metadata": {},
     "output_type": "execute_result"
    }
   ],
   "source": [
    "G = nx.DiGraph()\n",
    "G.add_edges_from(edges)\n",
    "\n",
    "close_cent = nx.closeness_centrality(G, wf_improved=False)\n",
    "close_cent['L']"
   ]
  },
  {
   "cell_type": "code",
   "execution_count": 13,
   "id": "8c2c6477-19d6-4758-beea-9b1a187d08dd",
   "metadata": {},
   "outputs": [
    {
     "data": {
      "text/plain": [
       "0.32625482625482627"
      ]
     },
     "execution_count": 13,
     "metadata": {},
     "output_type": "execute_result"
    }
   ],
   "source": [
    "close_cent = nx.closeness_centrality(G, wf_improved=True)\n",
    "close_cent['L']"
   ]
  }
 ],
 "metadata": {
  "kernelspec": {
   "display_name": "courses",
   "language": "python",
   "name": "courses"
  },
  "language_info": {
   "codemirror_mode": {
    "name": "ipython",
    "version": 3
   },
   "file_extension": ".py",
   "mimetype": "text/x-python",
   "name": "python",
   "nbconvert_exporter": "python",
   "pygments_lexer": "ipython3",
   "version": "3.9.7"
  }
 },
 "nbformat": 4,
 "nbformat_minor": 5
}
