{
 "cells": [
  {
   "cell_type": "markdown",
   "id": "6fa70572-80ed-4c4a-99c6-e4f6f580c1a9",
   "metadata": {},
   "source": [
    "# __Comparing Centrality Measures__"
   ]
  },
  {
   "cell_type": "code",
   "execution_count": 1,
   "id": "856149a0-808f-4d3d-951a-708faa6aaece",
   "metadata": {},
   "outputs": [],
   "source": [
    "import networkx as nx"
   ]
  },
  {
   "cell_type": "code",
   "execution_count": 2,
   "id": "090256ba-185f-4e04-95d9-42b373aca9f4",
   "metadata": {},
   "outputs": [],
   "source": [
    "G = nx.DiGraph()"
   ]
  },
  {
   "cell_type": "code",
   "execution_count": 3,
   "id": "a52168fd-de9b-42d9-961f-aed8e39b632d",
   "metadata": {},
   "outputs": [],
   "source": [
    "edges = [\n",
    "    (1,2),\n",
    "    (1,5),\n",
    "    (2,1),\n",
    "    (2,3),\n",
    "    (2,4),\n",
    "    (3,1),\n",
    "    (3,2),\n",
    "    (3,4),\n",
    "    (4,1),\n",
    "    (4,3),\n",
    "    (5,1),\n",
    "    (5,6),\n",
    "    (6,5),\n",
    "    (6,7),\n",
    "    (7,6),\n",
    "    (7,8),\n",
    "    (7,9),\n",
    "    (8,6),\n",
    "    (8,7),\n",
    "    (8,9),\n",
    "    (9,6),\n",
    "    (9,8)\n",
    "]"
   ]
  },
  {
   "cell_type": "code",
   "execution_count": 4,
   "id": "264b03fb-a5df-439b-83e8-efcf46fa6805",
   "metadata": {},
   "outputs": [
    {
     "data": {
      "image/png": "[encoded data removed]",
      "text/plain": [
       "<Figure size 432x288 with 1 Axes>"
      ]
     },
     "metadata": {},
     "output_type": "display_data"
    }
   ],
   "source": [
    "G.add_edges_from(edges)\n",
    "nx.draw_networkx(G)"
   ]
  },
  {
   "cell_type": "code",
   "execution_count": 5,
   "id": "566dfe31-894a-402e-9461-f7779a047695",
   "metadata": {},
   "outputs": [
    {
     "name": "stdout",
     "output_type": "stream",
     "text": [
      "Nodes: 1 in-degree: 4\n",
      "Nodes: 2 in-degree: 2\n",
      "Nodes: 5 in-degree: 2\n",
      "Nodes: 3 in-degree: 2\n",
      "Nodes: 4 in-degree: 2\n",
      "Nodes: 6 in-degree: 4\n",
      "Nodes: 7 in-degree: 2\n",
      "Nodes: 8 in-degree: 2\n",
      "Nodes: 9 in-degree: 2\n"
     ]
    }
   ],
   "source": [
    "# Indegree\n",
    "for node in list(G.nodes()):\n",
    "    print(f'Nodes: {node} in-degree: {G.in_degree(node)}')"
   ]
  },
  {
   "cell_type": "code",
   "execution_count": 6,
   "id": "2214213c-3952-46e8-84bc-2c7cb97787b4",
   "metadata": {},
   "outputs": [
    {
     "data": {
      "text/plain": [
       "{1: 0.5333333333333333,\n",
       " 2: 0.38095238095238093,\n",
       " 5: 0.5714285714285714,\n",
       " 3: 0.3076923076923077,\n",
       " 4: 0.3076923076923077,\n",
       " 6: 0.5333333333333333,\n",
       " 7: 0.38095238095238093,\n",
       " 8: 0.3076923076923077,\n",
       " 9: 0.3076923076923077}"
      ]
     },
     "execution_count": 6,
     "metadata": {},
     "output_type": "execute_result"
    }
   ],
   "source": [
    "# Closeness Centrality\n",
    "nx.closeness_centrality(G) # Node 5 centrality is higher"
   ]
  },
  {
   "cell_type": "code",
   "execution_count": 7,
   "id": "a68ae037-e11f-4c19-8954-dd6bc2860dbb",
   "metadata": {},
   "outputs": [
    {
     "data": {
      "text/plain": [
       "{1: 0.5446428571428571,\n",
       " 2: 0.21428571428571427,\n",
       " 5: 0.5714285714285714,\n",
       " 3: 0.008928571428571428,\n",
       " 4: 0.0,\n",
       " 6: 0.5446428571428571,\n",
       " 7: 0.21428571428571427,\n",
       " 8: 0.008928571428571428,\n",
       " 9: 0.0}"
      ]
     },
     "execution_count": 7,
     "metadata": {},
     "output_type": "execute_result"
    }
   ],
   "source": [
    "# Betweeness Centrality\n",
    "nx.betweenness_centrality(G) # Node 5 again, it is a very centric node"
   ]
  },
  {
   "cell_type": "code",
   "execution_count": 8,
   "id": "c29be444-5991-488f-b1b9-0282aa941022",
   "metadata": {},
   "outputs": [
    {
     "data": {
      "text/plain": [
       "{1: 0.1658337062753152,\n",
       " 2: 0.10896900830621481,\n",
       " 5: 0.1576262358466881,\n",
       " 3: 0.07702062010302184,\n",
       " 4: 0.06936354739210396,\n",
       " 6: 0.1658337062753152,\n",
       " 7: 0.10896900830621481,\n",
       " 8: 0.07702062010302184,\n",
       " 9: 0.06936354739210396}"
      ]
     },
     "execution_count": 8,
     "metadata": {},
     "output_type": "execute_result"
    }
   ],
   "source": [
    "# PageRank\n",
    "nx.pagerank(G)"
   ]
  },
  {
   "cell_type": "code",
   "execution_count": 9,
   "id": "e50c0981-09c2-4c99-a457-ed59cc22ad8e",
   "metadata": {},
   "outputs": [
    {
     "name": "stdout",
     "output_type": "stream",
     "text": [
      "Node 1: Auth = 0.031591674133241085 Hub = 0.21121135273116476\n",
      "Node 2: Auth = 0.1484870509448982 Hub = 0.06528115989396337\n",
      "Node 5: Auth = 0.14848705094489806 Hub = 0.02459226928741477\n",
      "Node 3: Auth = 0.1361310444420235 Hub = 0.10043208829102167\n",
      "Node 4: Auth = 0.10954670500738849 Hub = 0.11077926444014319\n",
      "Node 6: Auth = 0.03159167413324102 Hub = 0.21121135273116445\n",
      "Node 7: Auth = 0.14848705094489795 Hub = 0.0652811598939632\n",
      "Node 8: Auth = 0.13613104444202329 Hub = 0.1004320882910215\n",
      "Node 9: Auth = 0.1095467050073883 Hub = 0.110779264440143\n"
     ]
    }
   ],
   "source": [
    "# Authority and Hubs\n",
    "auth, hub = nx.hits(G)\n",
    "for key in auth.keys():\n",
    "    print(f'Node {key}: Auth = {auth[key]} Hub = {hub[key]}')"
   ]
  }
 ],
 "metadata": {
  "kernelspec": {
   "display_name": "Python 3 (ipykernel)",
   "language": "python",
   "name": "python3"
  },
  "language_info": {
   "codemirror_mode": {
    "name": "ipython",
    "version": 3
   },
   "file_extension": ".py",
   "mimetype": "text/x-python",
   "name": "python",
   "nbconvert_exporter": "python",
   "pygments_lexer": "ipython3",
   "version": "3.10.4"
  }
 },
 "nbformat": 4,
 "nbformat_minor": 5
}
