{
 "cells": [
  {
   "cell_type": "markdown",
   "id": "066b2486-66d1-4350-91bd-e302983ced15",
   "metadata": {},
   "source": [
    "# __Connectivity and Robustness__"
   ]
  },
  {
   "cell_type": "code",
   "execution_count": 1,
   "id": "b6800bf7-57ae-463a-a9e2-639d955c0882",
   "metadata": {},
   "outputs": [],
   "source": [
    "import networkx as nx\n",
    "%matplotlib widget"
   ]
  },
  {
   "cell_type": "code",
   "execution_count": 2,
   "id": "e2866cad-f89b-4706-9e16-b0c65ec5cef6",
   "metadata": {},
   "outputs": [
    {
     "data": {
      "application/vnd.jupyter.widget-view+json": {
       "model_id": "8c797b8b70f042d3ad4c0e00a1a145c3",
       "version_major": 2,
       "version_minor": 0
      },
      "text/plain": [
       "Canvas(toolbar=Toolbar(toolitems=[('Home', 'Reset original view', 'home', 'home'), ('Back', 'Back to previous …"
      ]
     },
     "metadata": {},
     "output_type": "display_data"
    }
   ],
   "source": [
    "edges = [\n",
    "    ('A', 'B'), ('C', 'A'), ('A', 'E'), ('G', 'A'), ('A', 'N'), ('B', 'C'),\n",
    "    ('D', 'B'), ('B', 'E'), ('C', 'D'), ('E', 'C'), ('D', 'E'), ('E', 'D'),\n",
    "    ('F', 'G'), ('I', 'F'), ('J', 'F'), ('H', 'G'), ('I', 'G'), ('G', 'J'),\n",
    "    ('I', 'H'), ('H', 'I'), ('I', 'J'), ('J', 'O'), ('O', 'J'), ('K', 'M'),\n",
    "    ('K', 'L'), ('O', 'K'), ('O', 'L'), ('N', 'L'), ('L', 'M'), ('N', 'O')\n",
    "]\n",
    "\n",
    "G = nx.Graph()\n",
    "G.add_edges_from(edges)\n",
    "\n",
    "nx.draw_networkx(G)"
   ]
  },
  {
   "cell_type": "code",
   "execution_count": 3,
   "id": "37422d21-f09f-4006-b70b-8daccf19f0b6",
   "metadata": {},
   "outputs": [
    {
     "data": {
      "text/plain": [
       "1"
      ]
     },
     "execution_count": 3,
     "metadata": {},
     "output_type": "execute_result"
    }
   ],
   "source": [
    "# smallest number of nodes that can be removed from graph G\n",
    "# in order to disconnect\n",
    "\n",
    "nx.node_connectivity(G)"
   ]
  },
  {
   "cell_type": "code",
   "execution_count": 4,
   "id": "45b2ba2c-446d-425a-82a4-186d066a7c99",
   "metadata": {},
   "outputs": [
    {
     "data": {
      "text/plain": [
       "{'A'}"
      ]
     },
     "execution_count": 4,
     "metadata": {},
     "output_type": "execute_result"
    }
   ],
   "source": [
    "# which node it is?\n",
    "\n",
    "nx.minimum_node_cut(G)"
   ]
  },
  {
   "cell_type": "code",
   "execution_count": 5,
   "id": "d16f5932-899c-4091-98e4-f613c311b8ae",
   "metadata": {},
   "outputs": [
    {
     "data": {
      "text/plain": [
       "2"
      ]
     },
     "execution_count": 5,
     "metadata": {},
     "output_type": "execute_result"
    }
   ],
   "source": [
    "# smallest number of edges that can be removed from graph G\n",
    "# in order to disconnect\n",
    "\n",
    "nx.edge_connectivity(G)"
   ]
  },
  {
   "cell_type": "code",
   "execution_count": 6,
   "id": "81ce647f-3724-4436-ba1f-5ebb5495aa46",
   "metadata": {},
   "outputs": [
    {
     "data": {
      "text/plain": [
       "{('G', 'H'), ('I', 'H')}"
      ]
     },
     "execution_count": 6,
     "metadata": {},
     "output_type": "execute_result"
    }
   ],
   "source": [
    "# which nodes?\n",
    "\n",
    "nx.minimum_edge_cut(G)"
   ]
  },
  {
   "cell_type": "markdown",
   "id": "43124adc-a222-478a-8c39-0a25efab7fdf",
   "metadata": {},
   "source": [
    "### __Simple Paths__"
   ]
  },
  {
   "cell_type": "code",
   "execution_count": 7,
   "id": "1927a295-5487-4177-94c5-77b0e95e582d",
   "metadata": {},
   "outputs": [],
   "source": [
    "Gd = nx.DiGraph()\n",
    "Gd.add_edges_from(edges)\n",
    "\n",
    "nx.draw_networkx(Gd)"
   ]
  },
  {
   "cell_type": "code",
   "execution_count": 8,
   "id": "eaa94e37-bbe8-44c4-9491-0ce6f4487edf",
   "metadata": {},
   "outputs": [
    {
     "data": {
      "text/plain": [
       "[['G', 'A', 'N', 'L'],\n",
       " ['G', 'A', 'N', 'O', 'K', 'L'],\n",
       " ['G', 'A', 'N', 'O', 'L'],\n",
       " ['G', 'J', 'O', 'K', 'L'],\n",
       " ['G', 'J', 'O', 'L']]"
      ]
     },
     "execution_count": 8,
     "metadata": {},
     "output_type": "execute_result"
    }
   ],
   "source": [
    "# paths between two nodes\n",
    "sorted(nx.all_simple_paths(Gd, 'G', 'L'))"
   ]
  },
  {
   "cell_type": "code",
   "execution_count": 9,
   "id": "f7de5489-d772-4468-a097-31a025a4235a",
   "metadata": {},
   "outputs": [
    {
     "data": {
      "text/plain": [
       "2"
      ]
     },
     "execution_count": 9,
     "metadata": {},
     "output_type": "execute_result"
    }
   ],
   "source": [
    "# if we want to block a message from G to L by removing nodes\n",
    "# how many nodes we need to remove?\n",
    "nx.node_connectivity(Gd, 'G', 'L')"
   ]
  },
  {
   "cell_type": "code",
   "execution_count": 10,
   "id": "9c23473c-bd61-4657-bc93-85c48d40c105",
   "metadata": {},
   "outputs": [
    {
     "data": {
      "text/plain": [
       "{'N', 'O'}"
      ]
     },
     "execution_count": 10,
     "metadata": {},
     "output_type": "execute_result"
    }
   ],
   "source": [
    "# which nodes?\n",
    "nx.minimum_node_cut(Gd, 'G', 'L')"
   ]
  },
  {
   "cell_type": "code",
   "execution_count": 11,
   "id": "b49385f3-b70b-4588-a1b1-27786182cc97",
   "metadata": {},
   "outputs": [
    {
     "data": {
      "text/plain": [
       "2"
      ]
     },
     "execution_count": 11,
     "metadata": {},
     "output_type": "execute_result"
    }
   ],
   "source": [
    "# if we want to block a message from G to L by removing edges\n",
    "# how many nodes we need to remove?\n",
    "nx.edge_connectivity(Gd, 'G', 'L')"
   ]
  },
  {
   "cell_type": "code",
   "execution_count": 12,
   "id": "1acd60bb-a21c-4833-89ce-26bf8db40cb3",
   "metadata": {},
   "outputs": [
    {
     "data": {
      "text/plain": [
       "{('A', 'N'), ('J', 'O')}"
      ]
     },
     "execution_count": 12,
     "metadata": {},
     "output_type": "execute_result"
    }
   ],
   "source": [
    "# which edges?\n",
    "nx.minimum_edge_cut(Gd, 'G', 'L')"
   ]
  }
 ],
 "metadata": {
  "kernelspec": {
   "display_name": "courses",
   "language": "python",
   "name": "courses"
  },
  "language_info": {
   "codemirror_mode": {
    "name": "ipython",
    "version": 3
   },
   "file_extension": ".py",
   "mimetype": "text/x-python",
   "name": "python",
   "nbconvert_exporter": "python",
   "pygments_lexer": "ipython3",
   "version": "3.9.7"
  }
 },
 "nbformat": 4,
 "nbformat_minor": 5
}
