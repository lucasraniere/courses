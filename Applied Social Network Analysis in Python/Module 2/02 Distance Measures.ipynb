{
 "cells": [
  {
   "cell_type": "markdown",
   "id": "4e208ecc-a51f-4f81-9764-07de310a25a4",
   "metadata": {},
   "source": [
    "# __Distance Measures__"
   ]
  },
  {
   "cell_type": "code",
   "execution_count": 1,
   "id": "ac1103f1-434c-4ae8-8fb1-9897d500a3c3",
   "metadata": {},
   "outputs": [],
   "source": [
    "import networkx as nx\n",
    "%matplotlib widget"
   ]
  },
  {
   "cell_type": "code",
   "execution_count": 2,
   "id": "c71fd4e9-f387-4ec6-a4cd-1ebeef06dc0b",
   "metadata": {},
   "outputs": [
    {
     "data": {
      "application/vnd.jupyter.widget-view+json": {
       "model_id": "d79c5d8b7c344f0fa6c1eddb019b7f4a",
       "version_major": 2,
       "version_minor": 0
      },
      "text/plain": [
       "Canvas(toolbar=Toolbar(toolitems=[('Home', 'Reset original view', 'home', 'home'), ('Back', 'Back to previous …"
      ]
     },
     "metadata": {},
     "output_type": "display_data"
    }
   ],
   "source": [
    "G = nx.Graph()\n",
    "G.add_edges_from([('A','K'), ('A','B'), ('A','C'), ('B','C'), ('B','K'),\n",
    "                 ('C','E'), ('C','F'), ('D','E'), ('E','F'), ('E','H'),\n",
    "                 ('F','G'), ('I','J'), ('E','I')])\n",
    "nx.draw_networkx(G)"
   ]
  },
  {
   "cell_type": "code",
   "execution_count": 3,
   "id": "1ac593e4-6290-46cd-a5fe-b891d897d26f",
   "metadata": {},
   "outputs": [
    {
     "data": {
      "text/plain": [
       "['A', 'C', 'E', 'H']"
      ]
     },
     "execution_count": 3,
     "metadata": {},
     "output_type": "execute_result"
    }
   ],
   "source": [
    "nx.shortest_path(G, 'A', 'H')"
   ]
  },
  {
   "cell_type": "code",
   "execution_count": 4,
   "id": "c81a91da-5378-4b07-8c72-7526cc0fbbc4",
   "metadata": {},
   "outputs": [
    {
     "data": {
      "text/plain": [
       "3"
      ]
     },
     "execution_count": 4,
     "metadata": {},
     "output_type": "execute_result"
    }
   ],
   "source": [
    "nx.shortest_path_length(G, 'A', 'H')"
   ]
  },
  {
   "cell_type": "code",
   "execution_count": 5,
   "id": "205ca829-bbbf-4e54-abde-0e8c16c8092f",
   "metadata": {},
   "outputs": [
    {
     "data": {
      "text/plain": [
       "OutEdgeView([('A', 'K'), ('A', 'B'), ('A', 'C'), ('C', 'E'), ('C', 'F'), ('E', 'D'), ('E', 'H'), ('E', 'I'), ('F', 'G'), ('I', 'J')])"
      ]
     },
     "execution_count": 5,
     "metadata": {},
     "output_type": "execute_result"
    }
   ],
   "source": [
    "# breadth-first search\n",
    "T = nx.bfs_tree(G, 'A')\n",
    "T.edges()"
   ]
  },
  {
   "cell_type": "code",
   "execution_count": 6,
   "id": "330900e0-f69c-400a-9e52-3aa85e7f25ea",
   "metadata": {},
   "outputs": [
    {
     "data": {
      "text/plain": [
       "{'A': 0,\n",
       " 'K': 1,\n",
       " 'C': 1,\n",
       " 'B': 1,\n",
       " 'E': 2,\n",
       " 'F': 2,\n",
       " 'I': 3,\n",
       " 'H': 3,\n",
       " 'D': 3,\n",
       " 'G': 3,\n",
       " 'J': 4}"
      ]
     },
     "execution_count": 6,
     "metadata": {},
     "output_type": "execute_result"
    }
   ],
   "source": [
    "nx.shortest_path_length(G, 'A') # distance from each other node"
   ]
  },
  {
   "cell_type": "code",
   "execution_count": 7,
   "id": "6ff4cea9-6d31-4ff4-828b-384381df405e",
   "metadata": {},
   "outputs": [
    {
     "data": {
      "text/plain": [
       "2.381818181818182"
      ]
     },
     "execution_count": 7,
     "metadata": {},
     "output_type": "execute_result"
    }
   ],
   "source": [
    "nx.average_shortest_path_length(G) # average distance between every pair of nodes"
   ]
  },
  {
   "cell_type": "code",
   "execution_count": 8,
   "id": "76ea8bf5-8f83-480e-8e34-6c5396cdcb36",
   "metadata": {},
   "outputs": [
    {
     "data": {
      "text/plain": [
       "5"
      ]
     },
     "execution_count": 8,
     "metadata": {},
     "output_type": "execute_result"
    }
   ],
   "source": [
    "nx.diameter(G) # maximum distance between any pair of nodes"
   ]
  },
  {
   "cell_type": "code",
   "execution_count": 9,
   "id": "37a83421-67de-497c-9e01-29efd67479b6",
   "metadata": {},
   "outputs": [
    {
     "data": {
      "text/plain": [
       "{'A': 4,\n",
       " 'K': 5,\n",
       " 'B': 4,\n",
       " 'C': 3,\n",
       " 'E': 3,\n",
       " 'F': 3,\n",
       " 'D': 4,\n",
       " 'H': 4,\n",
       " 'G': 4,\n",
       " 'I': 4,\n",
       " 'J': 5}"
      ]
     },
     "execution_count": 9,
     "metadata": {},
     "output_type": "execute_result"
    }
   ],
   "source": [
    "nx.eccentricity(G) # eccentricity of a node n is the largest distance between n and all other nodes"
   ]
  },
  {
   "cell_type": "code",
   "execution_count": 10,
   "id": "86e5d376-3366-4226-8fa1-941071039992",
   "metadata": {},
   "outputs": [
    {
     "data": {
      "text/plain": [
       "3"
      ]
     },
     "execution_count": 10,
     "metadata": {},
     "output_type": "execute_result"
    }
   ],
   "source": [
    "nx.radius(G) # is the minimum eccentricity"
   ]
  },
  {
   "cell_type": "code",
   "execution_count": 11,
   "id": "5568ae3e-8ddc-4b50-aeff-6c78b0640f48",
   "metadata": {},
   "outputs": [
    {
     "data": {
      "text/plain": [
       "['K', 'J']"
      ]
     },
     "execution_count": 11,
     "metadata": {},
     "output_type": "execute_result"
    }
   ],
   "source": [
    "nx.periphery(G) # set of nodes that have eccentricity equal to the diamenter (the highest possible)"
   ]
  },
  {
   "cell_type": "code",
   "execution_count": 12,
   "id": "42413748-0db8-4c61-87f6-d955405d170a",
   "metadata": {},
   "outputs": [
    {
     "data": {
      "text/plain": [
       "['C', 'E', 'F']"
      ]
     },
     "execution_count": 12,
     "metadata": {},
     "output_type": "execute_result"
    }
   ],
   "source": [
    "nx.center(G) # set of nodes that have eccentricity equal to the radius"
   ]
  },
  {
   "cell_type": "markdown",
   "id": "0af93cb4-ecbc-4503-95db-c9debf160645",
   "metadata": {},
   "source": [
    "## Karate Club Network"
   ]
  },
  {
   "cell_type": "code",
   "execution_count": 13,
   "id": "d27e0c6e-619f-4b36-b6a5-7d9a055b834b",
   "metadata": {},
   "outputs": [],
   "source": [
    "K = nx.karate_club_graph()"
   ]
  },
  {
   "cell_type": "code",
   "execution_count": 14,
   "id": "216460b4-290b-49ce-a040-153044c3d329",
   "metadata": {},
   "outputs": [],
   "source": [
    "K = nx.convert_node_labels_to_integers(K, first_label=1)"
   ]
  },
  {
   "cell_type": "code",
   "execution_count": 15,
   "id": "fa81be07-cec8-4f11-bef9-73f851c546f0",
   "metadata": {},
   "outputs": [
    {
     "data": {
      "text/plain": [
       "2.408199643493761"
      ]
     },
     "execution_count": 15,
     "metadata": {},
     "output_type": "execute_result"
    }
   ],
   "source": [
    "nx.average_shortest_path_length(K)"
   ]
  },
  {
   "cell_type": "code",
   "execution_count": 16,
   "id": "2b7f28f7-fa4d-4ada-b38f-28af9c2d9730",
   "metadata": {},
   "outputs": [
    {
     "data": {
      "text/plain": [
       "3"
      ]
     },
     "execution_count": 16,
     "metadata": {},
     "output_type": "execute_result"
    }
   ],
   "source": [
    "nx.radius(K)"
   ]
  },
  {
   "cell_type": "code",
   "execution_count": 17,
   "id": "7e1e4eb5-9ab4-4784-9438-ba17ef616dff",
   "metadata": {},
   "outputs": [
    {
     "data": {
      "text/plain": [
       "5"
      ]
     },
     "execution_count": 17,
     "metadata": {},
     "output_type": "execute_result"
    }
   ],
   "source": [
    "nx.diameter(K)"
   ]
  },
  {
   "cell_type": "code",
   "execution_count": 18,
   "id": "f51f2169-c31f-432e-b0f3-04aa0d5e599a",
   "metadata": {},
   "outputs": [
    {
     "data": {
      "text/plain": [
       "[1, 2, 3, 4, 9, 14, 20, 32]"
      ]
     },
     "execution_count": 18,
     "metadata": {},
     "output_type": "execute_result"
    }
   ],
   "source": [
    "nx.center(K)"
   ]
  },
  {
   "cell_type": "code",
   "execution_count": 19,
   "id": "c3c8527d-99c2-4484-a6dc-8da0eb03ea44",
   "metadata": {},
   "outputs": [
    {
     "data": {
      "text/plain": [
       "16"
      ]
     },
     "execution_count": 19,
     "metadata": {},
     "output_type": "execute_result"
    }
   ],
   "source": [
    "nx.degree(K, 1)"
   ]
  },
  {
   "cell_type": "code",
   "execution_count": 20,
   "id": "1495dcb5-a135-441e-921b-7f8826af39d6",
   "metadata": {},
   "outputs": [
    {
     "data": {
      "text/plain": [
       "[15, 16, 17, 19, 21, 23, 24, 27, 30]"
      ]
     },
     "execution_count": 20,
     "metadata": {},
     "output_type": "execute_result"
    }
   ],
   "source": [
    "nx.periphery(K)"
   ]
  }
 ],
 "metadata": {
  "kernelspec": {
   "display_name": "courses",
   "language": "python",
   "name": "courses"
  },
  "language_info": {
   "codemirror_mode": {
    "name": "ipython",
    "version": 3
   },
   "file_extension": ".py",
   "mimetype": "text/x-python",
   "name": "python",
   "nbconvert_exporter": "python",
   "pygments_lexer": "ipython3",
   "version": "3.9.7"
  }
 },
 "nbformat": 4,
 "nbformat_minor": 5
}
