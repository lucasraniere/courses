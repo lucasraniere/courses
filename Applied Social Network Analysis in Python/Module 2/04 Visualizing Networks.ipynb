{
 "cells": [
  {
   "cell_type": "markdown",
   "id": "6a48126d-09d1-4115-ba28-a61b27c9c814",
   "metadata": {},
   "source": [
    "# __Visualizing Networks__"
   ]
  },
  {
   "cell_type": "code",
   "execution_count": 1,
   "id": "0b0669ca-a281-4114-88dd-ec15ffc24fd6",
   "metadata": {},
   "outputs": [],
   "source": [
    "%matplotlib widget\n",
    "\n",
    "import gzip, re\n",
    "import networkx as nx\n",
    "import matplotlib.pyplot as plt"
   ]
  },
  {
   "cell_type": "code",
   "execution_count": 2,
   "id": "51f484be-a6b7-438a-bcc3-7e115d189ae0",
   "metadata": {},
   "outputs": [],
   "source": [
    "def miles_graph():\n",
    "    \"\"\"Return the cites example graph in miles_dat.txt\n",
    "    from the Stanford GraphBase.\n",
    "    \"\"\"\n",
    "    # open file miles_dat.txt.gz (or miles_dat.txt)\n",
    "\n",
    "    fh = gzip.open(\"knuth_miles.txt.gz\", \"r\")\n",
    "\n",
    "    G = nx.Graph()\n",
    "    G.position = {}\n",
    "    G.population = {}\n",
    "\n",
    "    cities = []\n",
    "    for line in fh.readlines():\n",
    "        line = line.decode()\n",
    "        if line.startswith(\"*\"):  # skip comments\n",
    "            continue\n",
    "\n",
    "        numfind = re.compile(r\"^\\d+\")\n",
    "\n",
    "        if numfind.match(line):  # this line is distances\n",
    "            dist = line.split()\n",
    "            for d in dist:\n",
    "                G.add_edge(city, cities[i], weight=int(d))\n",
    "                i = i + 1\n",
    "        else:  # this line is a city, position, population\n",
    "            i = 1\n",
    "            (city, coordpop) = line.split(\"[\")\n",
    "            cities.insert(0, city)\n",
    "            (coord, pop) = coordpop.split(\"]\")\n",
    "            (y, x) = coord.split(\",\")\n",
    "\n",
    "            G.add_node(city)\n",
    "            # assign position - Convert string to lat/long\n",
    "            G.position[city] = (-float(x) / 100, float(y) / 100)\n",
    "            G.population[city] = float(pop) / 1000.0\n",
    "    return G\n",
    "\n",
    "\n",
    "G = miles_graph()"
   ]
  },
  {
   "cell_type": "code",
   "execution_count": 3,
   "id": "cf4018e1-9bbb-4943-ac8c-6453677b9491",
   "metadata": {},
   "outputs": [],
   "source": [
    "H = nx.Graph()\n",
    "for v in G:\n",
    "    H.add_node(v)\n",
    "for (u, v, d) in G.edges(data=True):\n",
    "    if d[\"weight\"] < 300:\n",
    "        H.add_edge(u, v)"
   ]
  },
  {
   "cell_type": "code",
   "execution_count": 4,
   "id": "94cb2cc5-f514-4843-b70a-61cf3ea0bab3",
   "metadata": {},
   "outputs": [
    {
     "data": {
      "application/vnd.jupyter.widget-view+json": {
       "model_id": "5865c0ceaae545b687b095ba3a719ef4",
       "version_major": 2,
       "version_minor": 0
      },
      "text/plain": [
       "Canvas(toolbar=Toolbar(toolitems=[('Home', 'Reset original view', 'home', 'home'), ('Back', 'Back to previous …"
      ]
     },
     "metadata": {},
     "output_type": "display_data"
    }
   ],
   "source": [
    "plt.figure(figsize=(15,10))\n",
    "node_size = [G.population[v] for v in H]\n",
    "node_color = [float(H.degree(v)) for v in H]\n",
    "edge_width = [0.0005*G[u][v]['weight'] for u,v in G.edges()]\n",
    "pos = G.position\n",
    "nx.draw_networkx(H,\n",
    "                 pos,\n",
    "                 alpha=0.9,\n",
    "                 with_labels=False,\n",
    "                 edge_color='.4',\n",
    "                node_size=node_size,\n",
    "                node_color=node_color,\n",
    "                width=edge_width,\n",
    "                cmap=plt.cm.Blues)\n",
    "population_greater_than_100000 = {x:x for x in G.population if int(G.population[x])>100}\n",
    "nx.draw_networkx_labels(H,\n",
    "                        pos,\n",
    "                        labels=population_greater_than_100000)\n",
    "plt.axis('off')\n",
    "plt.tight_layout()\n",
    "plt.show()"
   ]
  }
 ],
 "metadata": {
  "kernelspec": {
   "display_name": "courses",
   "language": "python",
   "name": "courses"
  },
  "language_info": {
   "codemirror_mode": {
    "name": "ipython",
    "version": 3
   },
   "file_extension": ".py",
   "mimetype": "text/x-python",
   "name": "python",
   "nbconvert_exporter": "python",
   "pygments_lexer": "ipython3",
   "version": "3.9.7"
  }
 },
 "nbformat": 4,
 "nbformat_minor": 5
}
