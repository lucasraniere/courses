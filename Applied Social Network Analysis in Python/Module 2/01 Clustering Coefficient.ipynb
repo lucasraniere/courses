{
 "cells": [
  {
   "cell_type": "code",
   "execution_count": 1,
   "id": "fd968893-8beb-439b-b199-0445f6c9850b",
   "metadata": {},
   "outputs": [],
   "source": [
    "import networkx as nx\n",
    "#%matplotlib notebook"
   ]
  },
  {
   "cell_type": "code",
   "execution_count": 2,
   "id": "5f1e0277-84aa-45d0-bc77-64d3e9a41996",
   "metadata": {},
   "outputs": [],
   "source": [
    "G = nx.Graph()\n",
    "G.add_edges_from([('A','K'), ('A','B'), ('A','C'), ('B','C'), ('B','K'),\n",
    "                 ('C','E'), ('C','F'), ('D','E'), ('E','F'), ('E','H'),\n",
    "                 ('F','G'), ('I','J')])"
   ]
  },
  {
   "cell_type": "code",
   "execution_count": 3,
   "id": "7485f1da-323d-47d9-a444-2c190cc7f181",
   "metadata": {},
   "outputs": [
    {
     "data": {
      "image/png": "[encoded data removed]",
      "text/plain": [
       "<Figure size 432x288 with 1 Axes>"
      ]
     },
     "metadata": {},
     "output_type": "display_data"
    }
   ],
   "source": [
    "nx.draw_networkx(G)"
   ]
  },
  {
   "cell_type": "code",
   "execution_count": 4,
   "id": "cda6e802-5a88-495a-8e90-190f832fe356",
   "metadata": {},
   "outputs": [
    {
     "data": {
      "text/plain": [
       "0.3333333333333333"
      ]
     },
     "execution_count": 4,
     "metadata": {},
     "output_type": "execute_result"
    }
   ],
   "source": [
    "nx.clustering(G, 'F')"
   ]
  },
  {
   "cell_type": "code",
   "execution_count": 5,
   "id": "81c3624c-6746-4ac5-8272-7d886133c81e",
   "metadata": {},
   "outputs": [
    {
     "data": {
      "text/plain": [
       "0.6666666666666666"
      ]
     },
     "execution_count": 5,
     "metadata": {},
     "output_type": "execute_result"
    }
   ],
   "source": [
    "nx.clustering(G, 'A')"
   ]
  },
  {
   "cell_type": "code",
   "execution_count": 6,
   "id": "0517caf0-ab29-439c-b49b-6342b486b0a1",
   "metadata": {},
   "outputs": [
    {
     "data": {
      "text/plain": [
       "0"
      ]
     },
     "execution_count": 6,
     "metadata": {},
     "output_type": "execute_result"
    }
   ],
   "source": [
    "nx.clustering(G, 'I')"
   ]
  },
  {
   "cell_type": "code",
   "execution_count": 7,
   "id": "9c1ca735-fb24-4f84-ae4d-8a9bf0bccc3a",
   "metadata": {},
   "outputs": [
    {
     "data": {
      "text/plain": [
       "0.28787878787878785"
      ]
     },
     "execution_count": 7,
     "metadata": {},
     "output_type": "execute_result"
    }
   ],
   "source": [
    "# global clustering coefficient approaches\n",
    "\n",
    "# 1: average local clustering coefficient\n",
    "nx.average_clustering(G)"
   ]
  },
  {
   "cell_type": "code",
   "execution_count": 8,
   "id": "af55afab-5903-4174-82f0-05b6fec3aa0c",
   "metadata": {},
   "outputs": [
    {
     "data": {
      "text/plain": [
       "0.4090909090909091"
      ]
     },
     "execution_count": 8,
     "metadata": {},
     "output_type": "execute_result"
    }
   ],
   "source": [
    "# 2: percentage of \"open triads\" that are trianglues in a network\n",
    "nx.transitivity(G)"
   ]
  }
 ],
 "metadata": {
  "kernelspec": {
   "display_name": "sna-coursera",
   "language": "python",
   "name": "sna-coursera"
  },
  "language_info": {
   "codemirror_mode": {
    "name": "ipython",
    "version": 3
   },
   "file_extension": ".py",
   "mimetype": "text/x-python",
   "name": "python",
   "nbconvert_exporter": "python",
   "pygments_lexer": "ipython3",
   "version": "3.9.6"
  }
 },
 "nbformat": 4,
 "nbformat_minor": 5
}
