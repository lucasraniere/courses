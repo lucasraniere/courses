{
 "cells": [
  {
   "cell_type": "code",
   "execution_count": 12,
   "id": "f7c8c943-3076-4099-91a8-fa51cd43c191",
   "metadata": {},
   "outputs": [],
   "source": [
    "%matplotlib widget\n",
    "import numpy as np\n",
    "import networkx as nx\n",
    "import matplotlib.pyplot as plt"
   ]
  },
  {
   "cell_type": "code",
   "execution_count": 34,
   "id": "4462c36d-a382-40bb-bf02-21c7ef528cae",
   "metadata": {},
   "outputs": [
    {
     "data": {
      "application/vnd.jupyter.widget-view+json": {
       "model_id": "12de758508c943b3a8f48037e18fdd86",
       "version_major": 2,
       "version_minor": 0
      },
      "text/plain": [
       "Canvas(toolbar=Toolbar(toolitems=[('Home', 'Reset original view', 'home', 'home'), ('Back', 'Back to previous …"
      ]
     },
     "metadata": {},
     "output_type": "display_data"
    }
   ],
   "source": [
    "G = nx.karate_club_graph()\n",
    "pos = nx.spring_layout(G)\n",
    "plt.figure(figsize=(10,7))\n",
    "plt.axis('off')\n",
    "\n",
    "node_color = [G.degree(v) for v in G] # degree of the node\n",
    "\n",
    "nx.draw_networkx(G, pos, node_color=node_color, alpha=0.9, cmap=plt.cm.Blues,\n",
    "                with_labels=False)"
   ]
  }
 ],
 "metadata": {
  "kernelspec": {
   "display_name": "sna-coursera",
   "language": "python",
   "name": "sna-coursera"
  },
  "language_info": {
   "codemirror_mode": {
    "name": "ipython",
    "version": 3
   },
   "file_extension": ".py",
   "mimetype": "text/x-python",
   "name": "python",
   "nbconvert_exporter": "python",
   "pygments_lexer": "ipython3",
   "version": "3.9.6"
  }
 },
 "nbformat": 4,
 "nbformat_minor": 5
}
