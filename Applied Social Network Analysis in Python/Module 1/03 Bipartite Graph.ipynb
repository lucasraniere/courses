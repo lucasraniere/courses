{
 "cells": [
  {
   "cell_type": "code",
   "execution_count": 3,
   "id": "e4b0b2fe-7019-4df6-a8ab-ed2d7e3d502c",
   "metadata": {},
   "outputs": [],
   "source": [
    "import networkx as nx\n",
    "from networkx.algorithms import bipartite"
   ]
  },
  {
   "cell_type": "code",
   "execution_count": 5,
   "id": "07109eb7-578b-4b9e-bcd5-67265a0aa24f",
   "metadata": {},
   "outputs": [],
   "source": [
    "B = nx.Graph() # no separate class for bipartite graphs\n",
    "B.add_nodes_from(['A', 'B', 'C', 'D', 'E'], bipartite=0) # label one set of nodes 0\n",
    "B.add_nodes_from([1,2,3,4], bipartite=1) # label other set of nodes 1\n",
    "B.add_edges_from([('A',1), ('B',1), ('C',1), ('C',3), ('D',2), ('E',3), ('E',4)])"
   ]
  },
  {
   "cell_type": "code",
   "execution_count": 12,
   "id": "3a9274c7-a3a1-4d10-8db2-676eaffd1844",
   "metadata": {},
   "outputs": [
    {
     "data": {
      "text/plain": [
       "True"
      ]
     },
     "execution_count": 12,
     "metadata": {},
     "output_type": "execute_result"
    }
   ],
   "source": [
    "bipartite.is_bipartite(B)"
   ]
  },
  {
   "cell_type": "code",
   "execution_count": 7,
   "id": "186d0cfd-e248-4391-933c-d4c6b90805f3",
   "metadata": {},
   "outputs": [
    {
     "data": {
      "text/plain": [
       "False"
      ]
     },
     "execution_count": 7,
     "metadata": {},
     "output_type": "execute_result"
    }
   ],
   "source": [
    "B.add_edge('A', 'B')\n",
    "bipartite.is_bipartite(B)"
   ]
  },
  {
   "cell_type": "code",
   "execution_count": 8,
   "id": "e76f5b93-1414-42f0-8853-adf526444919",
   "metadata": {},
   "outputs": [
    {
     "data": {
      "text/plain": [
       "True"
      ]
     },
     "execution_count": 8,
     "metadata": {},
     "output_type": "execute_result"
    }
   ],
   "source": [
    "B.remove_edge('A', 'B')\n",
    "bipartite.is_bipartite(B)"
   ]
  },
  {
   "cell_type": "code",
   "execution_count": 9,
   "id": "f5ef7796-edf6-428b-88bf-e5777c5725a2",
   "metadata": {},
   "outputs": [
    {
     "data": {
      "text/plain": [
       "True"
      ]
     },
     "execution_count": 9,
     "metadata": {},
     "output_type": "execute_result"
    }
   ],
   "source": [
    "X = set([1,2,3,4])\n",
    "bipartite.is_bipartite_node_set(B,X)"
   ]
  },
  {
   "cell_type": "code",
   "execution_count": 13,
   "id": "e840dbc1-1783-41e7-ba6c-45f57e2e076f",
   "metadata": {},
   "outputs": [],
   "source": [
    "#bipartite.sets(B)"
   ]
  },
  {
   "cell_type": "code",
   "execution_count": 19,
   "id": "6a49d554-a9c0-4680-acf5-d9d6ffb31e06",
   "metadata": {},
   "outputs": [],
   "source": [
    "X = set(['A', 'B', 'C', 'D', 'E'])\n",
    "P = bipartite.projected_graph(B,X) # nodes are connect whem they have common connection with another node"
   ]
  },
  {
   "cell_type": "code",
   "execution_count": 20,
   "id": "3488c853-a646-4359-8fd0-9a08b0e0c8e7",
   "metadata": {},
   "outputs": [
    {
     "data": {
      "text/plain": [
       "EdgeDataView([('C', 'B', {}), ('C', 'E', {}), ('C', 'A', {}), ('B', 'A', {})])"
      ]
     },
     "execution_count": 20,
     "metadata": {},
     "output_type": "execute_result"
    }
   ],
   "source": [
    "P.edges(data=True)"
   ]
  },
  {
   "cell_type": "code",
   "execution_count": 21,
   "id": "a2c68394-9e0d-4942-8bf9-b07c537a5ed6",
   "metadata": {},
   "outputs": [
    {
     "data": {
      "text/plain": [
       "EdgeDataView([('C', 'A', {'weight': 1}), ('C', 'E', {'weight': 1}), ('C', 'B', {'weight': 1}), ('B', 'A', {'weight': 1})])"
      ]
     },
     "execution_count": 21,
     "metadata": {},
     "output_type": "execute_result"
    }
   ],
   "source": [
    "X = set(['A', 'B', 'C', 'D', 'E'])\n",
    "P = bipartite.weighted_projected_graph(B,X)\n",
    "P.edges(data=True)"
   ]
  },
  {
   "cell_type": "code",
   "execution_count": null,
   "id": "d359e79d-602e-48dc-97d7-df752ab5bac4",
   "metadata": {},
   "outputs": [],
   "source": []
  }
 ],
 "metadata": {
  "kernelspec": {
   "display_name": "courses",
   "language": "python",
   "name": "courses"
  },
  "language_info": {
   "codemirror_mode": {
    "name": "ipython",
    "version": 3
   },
   "file_extension": ".py",
   "mimetype": "text/x-python",
   "name": "python",
   "nbconvert_exporter": "python",
   "pygments_lexer": "ipython3",
   "version": "3.9.7"
  }
 },
 "nbformat": 4,
 "nbformat_minor": 5
}
