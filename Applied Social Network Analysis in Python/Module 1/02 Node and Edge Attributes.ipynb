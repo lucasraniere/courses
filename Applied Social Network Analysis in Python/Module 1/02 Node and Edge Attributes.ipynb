{
 "cells": [
  {
   "cell_type": "code",
   "execution_count": 1,
   "id": "75808a29-252a-4356-a643-33d4512f1044",
   "metadata": {},
   "outputs": [],
   "source": [
    "import networkx as nx"
   ]
  },
  {
   "cell_type": "markdown",
   "id": "6c4e24b5-d796-45b4-9823-154c5d261b45",
   "metadata": {},
   "source": [
    "## __Edges Attributes__"
   ]
  },
  {
   "cell_type": "code",
   "execution_count": 2,
   "id": "adf005cf-b7be-49b6-9f0f-cf543e386146",
   "metadata": {},
   "outputs": [
    {
     "data": {
      "text/plain": [
       "EdgeView([('A', 'B'), ('B', 'C')])"
      ]
     },
     "execution_count": 2,
     "metadata": {},
     "output_type": "execute_result"
    }
   ],
   "source": [
    "G = nx.Graph()\n",
    "G.add_edge('A', 'B', weight=6, relation='family')\n",
    "G.add_edge('B', 'C', weight=13, relation='friend')\n",
    "\n",
    "G.edges()"
   ]
  },
  {
   "cell_type": "code",
   "execution_count": 3,
   "id": "56ab0fbd-a14c-4d74-988f-b93fd577b68e",
   "metadata": {},
   "outputs": [
    {
     "data": {
      "text/plain": [
       "EdgeDataView([('A', 'B', {'weight': 6, 'relation': 'family'}), ('B', 'C', {'weight': 13, 'relation': 'friend'})])"
      ]
     },
     "execution_count": 3,
     "metadata": {},
     "output_type": "execute_result"
    }
   ],
   "source": [
    "G.edges(data=True)"
   ]
  },
  {
   "cell_type": "code",
   "execution_count": 4,
   "id": "6886c178-da06-49bb-bad2-efa498e8aac7",
   "metadata": {},
   "outputs": [
    {
     "data": {
      "text/plain": [
       "EdgeDataView([('A', 'B', 'family'), ('B', 'C', 'friend')])"
      ]
     },
     "execution_count": 4,
     "metadata": {},
     "output_type": "execute_result"
    }
   ],
   "source": [
    "G.edges(data='relation')"
   ]
  },
  {
   "cell_type": "code",
   "execution_count": 12,
   "id": "0fc9ea98-3014-4281-beda-f5b3267699ca",
   "metadata": {},
   "outputs": [
    {
     "data": {
      "text/plain": [
       "{'weight': 6, 'relation': 'family'}"
      ]
     },
     "execution_count": 12,
     "metadata": {},
     "output_type": "execute_result"
    }
   ],
   "source": [
    "G.edges['A', 'B']"
   ]
  },
  {
   "cell_type": "code",
   "execution_count": 15,
   "id": "e4cba77f-0079-44b4-b500-07bcd1657373",
   "metadata": {},
   "outputs": [
    {
     "data": {
      "text/plain": [
       "13"
      ]
     },
     "execution_count": 15,
     "metadata": {},
     "output_type": "execute_result"
    }
   ],
   "source": [
    "G.edges['B', 'C']['weight']"
   ]
  },
  {
   "cell_type": "code",
   "execution_count": 18,
   "id": "676d6b27-2e9b-40de-bb0e-49357044b5e4",
   "metadata": {},
   "outputs": [
    {
     "data": {
      "text/plain": [
       "0"
      ]
     },
     "execution_count": 18,
     "metadata": {},
     "output_type": "execute_result"
    }
   ],
   "source": [
    "G = nx.MultiGraph()\n",
    "G.add_edge('A', 'B', weight=6, relation='family')\n",
    "G.add_edge('A', 'B', weight=18, relation='friend')\n",
    "G.add_edge('C', 'B', weight=13, relation='amigo')"
   ]
  },
  {
   "cell_type": "code",
   "execution_count": 26,
   "id": "7cf7d3c2-b1c1-4c6b-9ca7-43e106604073",
   "metadata": {},
   "outputs": [
    {
     "data": {
      "text/plain": [
       "{'weight': 18, 'relation': 'friend'}"
      ]
     },
     "execution_count": 26,
     "metadata": {},
     "output_type": "execute_result"
    }
   ],
   "source": [
    "G.edges['A', 'B', 1]"
   ]
  },
  {
   "cell_type": "code",
   "execution_count": 27,
   "id": "88ae830a-1b88-465d-97be-238ce7bde995",
   "metadata": {},
   "outputs": [
    {
     "data": {
      "text/plain": [
       "0"
      ]
     },
     "execution_count": 27,
     "metadata": {},
     "output_type": "execute_result"
    }
   ],
   "source": [
    "G= nx.MultiDiGraph()\n",
    "G.add_edge('A', 'B', weight=6, relation='family')\n",
    "G.add_edge('A', 'B', weight=18, relation='friend')\n",
    "G.add_edge('C', 'B', weight=13, relation='amigo')"
   ]
  },
  {
   "cell_type": "code",
   "execution_count": 28,
   "id": "81164971-28f3-46d9-87e1-0282dc8ffe0c",
   "metadata": {},
   "outputs": [
    {
     "data": {
      "text/plain": [
       "OutMultiEdgeDataView([('A', 'B', {'weight': 6, 'relation': 'family'}), ('A', 'B', {'weight': 18, 'relation': 'friend'}), ('C', 'B', {'weight': 13, 'relation': 'amigo'})])"
      ]
     },
     "execution_count": 28,
     "metadata": {},
     "output_type": "execute_result"
    }
   ],
   "source": [
    "G.edges(data=True)"
   ]
  },
  {
   "cell_type": "markdown",
   "id": "aa3dc7d0-48ff-44ad-b7d9-9e6a730cdd5a",
   "metadata": {},
   "source": [
    "## __Node Attributes__"
   ]
  },
  {
   "cell_type": "code",
   "execution_count": 29,
   "id": "281add4f-a6b6-47b1-8b44-4c65fb794aae",
   "metadata": {},
   "outputs": [],
   "source": [
    "G = nx.Graph()\n",
    "G.add_edge('A', 'B', weight=6, relation='family')\n",
    "G.add_edge('B', 'C', weight=13, relation='friend')"
   ]
  },
  {
   "cell_type": "code",
   "execution_count": 30,
   "id": "b7cf7d6c-8008-441c-b04c-ad1d8f75e7a7",
   "metadata": {},
   "outputs": [],
   "source": [
    "# adding node attributes\n",
    "G.add_node('A', role='trader')\n",
    "G.add_node('B', role='trader')\n",
    "G.add_node('C', role='manager')"
   ]
  },
  {
   "cell_type": "code",
   "execution_count": 32,
   "id": "3962c48d-1a14-4f20-9300-a8221f3d54ce",
   "metadata": {},
   "outputs": [
    {
     "data": {
      "text/plain": [
       "NodeDataView({'A': {'role': 'trader'}, 'B': {'role': 'trader'}, 'C': {'role': 'manager'}})"
      ]
     },
     "execution_count": 32,
     "metadata": {},
     "output_type": "execute_result"
    }
   ],
   "source": [
    "G.nodes(data=True)"
   ]
  },
  {
   "cell_type": "code",
   "execution_count": 35,
   "id": "37daa289-e58c-4c6f-91c3-94f4e83b9a51",
   "metadata": {},
   "outputs": [
    {
     "data": {
      "text/plain": [
       "'trader'"
      ]
     },
     "execution_count": 35,
     "metadata": {},
     "output_type": "execute_result"
    }
   ],
   "source": [
    "G.nodes['A']['role']"
   ]
  }
 ],
 "metadata": {
  "kernelspec": {
   "display_name": "courses",
   "language": "python",
   "name": "courses"
  },
  "language_info": {
   "codemirror_mode": {
    "name": "ipython",
    "version": 3
   },
   "file_extension": ".py",
   "mimetype": "text/x-python",
   "name": "python",
   "nbconvert_exporter": "python",
   "pygments_lexer": "ipython3",
   "version": "3.9.7"
  }
 },
 "nbformat": 4,
 "nbformat_minor": 5
}
