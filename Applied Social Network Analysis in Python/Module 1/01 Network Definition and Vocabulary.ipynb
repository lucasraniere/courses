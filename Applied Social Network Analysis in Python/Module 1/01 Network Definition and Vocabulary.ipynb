{
 "cells": [
  {
   "cell_type": "code",
   "execution_count": 1,
   "id": "16a68b8a-9da8-4596-9901-d089e02ac84b",
   "metadata": {},
   "outputs": [],
   "source": [
    "import networkx as nx"
   ]
  },
  {
   "cell_type": "code",
   "execution_count": 2,
   "id": "dd18ce0b-6ac1-405a-8bbd-cf05fa96a6f0",
   "metadata": {},
   "outputs": [],
   "source": [
    "# undirected graph\n",
    "G = nx.Graph()\n",
    "G.add_edge('A', 'B')\n",
    "G.add_edge('B', 'C')"
   ]
  },
  {
   "cell_type": "code",
   "execution_count": 3,
   "id": "976956a4-7ca1-46c8-a9bc-9585e1e41e54",
   "metadata": {},
   "outputs": [],
   "source": [
    "# directed graph\n",
    "G = nx.DiGraph()\n",
    "G.add_edge('A', 'B')\n",
    "G.add_edge('B', 'C')"
   ]
  },
  {
   "cell_type": "code",
   "execution_count": 4,
   "id": "9be6cb6a-95ea-4983-839d-a631f9cca9a9",
   "metadata": {},
   "outputs": [],
   "source": [
    "# weighted graph\n",
    "G = nx.Graph()\n",
    "G.add_edge('A', 'B', weight=6)\n",
    "G.add_edge('B', 'C', weight=13)"
   ]
  },
  {
   "cell_type": "code",
   "execution_count": 5,
   "id": "459ef417-3bc8-4587-823a-b405c82171bd",
   "metadata": {},
   "outputs": [],
   "source": [
    "# signed networks\n",
    "G = nx.Graph()\n",
    "G.add_edge('A', 'B', sign='+')\n",
    "G.add_edge('B', 'C', sign='-')"
   ]
  },
  {
   "cell_type": "code",
   "execution_count": 6,
   "id": "7d045920-b218-433e-8b79-5d62dd8551a3",
   "metadata": {},
   "outputs": [],
   "source": [
    "# other edge attributes\n",
    "G = nx.Graph()\n",
    "G.add_edge('A', 'B', relation='friend')\n",
    "G.add_edge('B', 'C', relation='coworker')"
   ]
  },
  {
   "cell_type": "code",
   "execution_count": 7,
   "id": "6a12bec7-49cc-4336-96ad-049c896492d0",
   "metadata": {},
   "outputs": [
    {
     "data": {
      "text/plain": [
       "0"
      ]
     },
     "execution_count": 7,
     "metadata": {},
     "output_type": "execute_result"
    }
   ],
   "source": [
    "# multigraph\n",
    "G = nx.MultiGraph()\n",
    "G.add_edge('A', 'B', relation='friend')\n",
    "G.add_edge('A', 'B', relation='coworker')\n",
    "G.add_edge('B', 'C', relation='family')"
   ]
  }
 ],
 "metadata": {
  "kernelspec": {
   "display_name": "courses",
   "language": "python",
   "name": "courses"
  },
  "language_info": {
   "codemirror_mode": {
    "name": "ipython",
    "version": 3
   },
   "file_extension": ".py",
   "mimetype": "text/x-python",
   "name": "python",
   "nbconvert_exporter": "python",
   "pygments_lexer": "ipython3",
   "version": "3.9.7"
  }
 },
 "nbformat": 4,
 "nbformat_minor": 5
}
